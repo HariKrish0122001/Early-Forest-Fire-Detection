{
 "cells": [
  {
   "cell_type": "code",
   "execution_count": 1,
   "id": "d6b0c1e9",
   "metadata": {},
   "outputs": [],
   "source": [
    "#import opencv librariy\n",
    "import cv2\n",
    "#import numpy\n",
    "import numpy as np\n",
    "#import image function from keras\n",
    "from tensorflow.keras.preprocessing import image\n",
    "#import load_model from keras\n",
    "from keras.models import load_model\n",
    "#import client from twilio API\n",
    "from twilio.rest import Client\n",
    "#imort playsound package\n",
    "from playsound import playsound\n",
    "\n"
   ]
  },
  {
   "cell_type": "code",
   "execution_count": 2,
   "id": "d5f1ee22",
   "metadata": {},
   "outputs": [],
   "source": [
    "#load the saved model\n",
    "model = load_model(r'forest2.h5')\n",
    "#define video\n",
    "video = cv2.VideoCapture(r'C:\\Users\\harik\\Downloads\\pexels-arnav-kainthola-7543653.mp4')\n",
    "#define the features\n",
    "name = {0:'forest',1:'with forest fire'}\n"
   ]
  },
  {
   "cell_type": "code",
   "execution_count": 3,
   "id": "13d05d90",
   "metadata": {},
   "outputs": [
    {
     "name": "stdout",
     "output_type": "stream",
     "text": [
      "Requirement already satisfied: twilio in c:\\users\\harik\\anaconda3\\lib\\site-packages (7.15.2)\n",
      "Requirement already satisfied: PyJWT<3.0.0,>=2.0.0 in c:\\users\\harik\\anaconda3\\lib\\site-packages (from twilio) (2.4.0)\n",
      "Requirement already satisfied: requests>=2.0.0 in c:\\users\\harik\\anaconda3\\lib\\site-packages (from twilio) (2.28.1)\n",
      "Requirement already satisfied: pytz in c:\\users\\harik\\anaconda3\\lib\\site-packages (from twilio) (2022.1)\n",
      "Requirement already satisfied: idna<4,>=2.5 in c:\\users\\harik\\anaconda3\\lib\\site-packages (from requests>=2.0.0->twilio) (3.3)\n",
      "Requirement already satisfied: urllib3<1.27,>=1.21.1 in c:\\users\\harik\\anaconda3\\lib\\site-packages (from requests>=2.0.0->twilio) (1.26.11)\n",
      "Requirement already satisfied: charset-normalizer<3,>=2 in c:\\users\\harik\\anaconda3\\lib\\site-packages (from requests>=2.0.0->twilio) (2.0.4)\n",
      "Requirement already satisfied: certifi>=2017.4.17 in c:\\users\\harik\\anaconda3\\lib\\site-packages (from requests>=2.0.0->twilio) (2022.9.24)\n",
      "Note: you may need to restart the kernel to use updated packages.\n"
     ]
    }
   ],
   "source": [
    "pip install twilio\n"
   ]
  },
  {
   "cell_type": "code",
   "execution_count": null,
   "id": "3378356e",
   "metadata": {
    "scrolled": false
   },
   "outputs": [
    {
     "name": "stdout",
     "output_type": "stream",
     "text": [
      "1/1 [==============================] - 0s 259ms/step\n",
      "[[1.]]\n",
      "fire\n",
      "1\n",
      "SM7cf54113c8d6a307f861b4e31a8a02c3\n",
      "Fire detected\n",
      "SMS SENT !!!\n"
     ]
    }
   ],
   "source": [
    "while(1):\n",
    "    success,frame=video.read()\n",
    "    cv2.imwrite(\"image.jpg\",frame)\n",
    "    img=image.load_img(\"image.jpg\",target_size=(128,128))\n",
    "    x=image.img_to_array(img)\n",
    "    x=np.expand_dims(x,axis=0)\n",
    "    pred=model.predict(x)\n",
    "    #np.argmax(model.predict(x), axis=-1)\n",
    "    p=pred[0]\n",
    "    print(pred)\n",
    "    if p==1:\n",
    "        print(\"fire\")\n",
    "    print(int(p))\n",
    "    cv2.putText(frame,\"predict class=\"+ str(name[int(p)]),(100,100),cv2.FONT_HERSHEY_SIMPLEX,1,(0,0,0),1)\n",
    "    if pred[0]==1:\n",
    "        account_sid=\"AC597540e2b070fb3b25d0b1d797290dd3\"\n",
    "        auth_token=\"b0f4063601f028b2022b427ee5606e0d\"\n",
    "        client=Client(account_sid,auth_token)\n",
    "        message=client.messages.create(body=\"forest fire detected,stay alert RA PUNDA\",from_='+13396751336',to='+919677689130')\n",
    "        print(message.sid)\n",
    "        print(\"Fire detected\")\n",
    "        print(\"SMS SENT !!!\")\n",
    "        playsound(r'C:/Users/harik/Forest Fire/Siren.mp3')\n",
    "        \n",
    "        \n",
    "    else:\n",
    "        print(\"No danger\")\n",
    "    cv2.imshow('image',frame)\n",
    "    if cv2.waitkey(1) & 0xFF ==ord('a'):\n",
    "        break\n",
    "video.release()\n",
    "cv2.destroyAllWindows()"
   ]
  },
  {
   "cell_type": "code",
   "execution_count": null,
   "id": "3eadc599",
   "metadata": {},
   "outputs": [],
   "source": []
  }
 ],
 "metadata": {
  "kernelspec": {
   "display_name": "Python 3 (ipykernel)",
   "language": "python",
   "name": "python3"
  },
  "language_info": {
   "codemirror_mode": {
    "name": "ipython",
    "version": 3
   },
   "file_extension": ".py",
   "mimetype": "text/x-python",
   "name": "python",
   "nbconvert_exporter": "python",
   "pygments_lexer": "ipython3",
   "version": "3.9.13"
  }
 },
 "nbformat": 4,
 "nbformat_minor": 5
}
